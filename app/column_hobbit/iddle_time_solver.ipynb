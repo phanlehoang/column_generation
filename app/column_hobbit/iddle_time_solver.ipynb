{
 "cells": [
  {
   "cell_type": "code",
   "execution_count": 1,
   "metadata": {},
   "outputs": [],
   "source": [
    "import numpy as np\n",
    "import arc\n",
    "import gurobipy as gp\n",
    "from gurobipy import GRB\n",
    "from csp_wizard.node import Node\n",
    "\n",
    "from time_constraint_shortest_path_solver import TimeConstraintShortestPathSolver\n",
    "from time_constraint_shortest_path_solver_ver2 import TimeConstraintShortestPathSolverVer2\n",
    "# Tạo task\n",
    "from bus_wizard.task import Task\n",
    "task1 = Task(1,360, 480)\n",
    "task2 = Task(2,495, 615)\n",
    "task3 = Task(3,615, 735)\n",
    "task4 = Task(4,735, 855)\n",
    "task5 = Task(5,855, 975)\n",
    "task6 = Task(6,975, 1095)\n",
    "task7 = Task(7,1095, 1215)\n",
    "task8 = Task(8,1215, 1335)\n",
    "tasks = [task1, task2, task3, task4, task5, task6, task7, task8]\n",
    "\n"
   ]
  },
  {
   "cell_type": "code",
   "execution_count": 2,
   "metadata": {},
   "outputs": [],
   "source": [
    "T_small = 420 \n",
    "T_big = 540"
   ]
  },
  {
   "cell_type": "code",
   "execution_count": null,
   "metadata": {},
   "outputs": [],
   "source": [
    "def column_generation_solve_min_number_drivers(tasks, T_big, T_small, max_iter = 100):\n",
    "    pattern_columns = np.identity(len(tasks))\n",
    "    save_solution = np.ones(len(tasks))\n",
    "    for i in range(max_iter):\n",
    "        pi,save_solution = solve_restricted_master(pattern_columns, save_solution)\n",
    "        new_pattern = solve_sub_problem(pi, tasks, T_big, T_small)\n",
    "        #nếu 1- pi*new_pattern > 0 thì dừng\n",
    "        if 1 - pi@new_pattern > 1e-5:\n",
    "            break\n",
    "        #thêm 1 vào save_solution\n",
    "        save_solution = np.append(save_solution, 1)\n",
    "        pattern_columns = np.c_[pattern_columns, new_pattern]\n",
    "    print(\"Số patterns \", pattern_columns.shape[1])\n",
    "    return solve_final_master_problem(pattern_columns), pattern_columns\n",
    "    "
   ]
  }
 ],
 "metadata": {
  "kernelspec": {
   "display_name": "base",
   "language": "python",
   "name": "python3"
  },
  "language_info": {
   "codemirror_mode": {
    "name": "ipython",
    "version": 3
   },
   "file_extension": ".py",
   "mimetype": "text/x-python",
   "name": "python",
   "nbconvert_exporter": "python",
   "pygments_lexer": "ipython3",
   "version": "3.9.7"
  },
  "orig_nbformat": 4
 },
 "nbformat": 4,
 "nbformat_minor": 2
}
